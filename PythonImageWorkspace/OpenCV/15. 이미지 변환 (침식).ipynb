{
 "cells": [
  {
   "cell_type": "markdown",
   "id": "0172b748",
   "metadata": {},
   "source": [
    "# 15. 이미지 변환 (침식)"
   ]
  },
  {
   "cell_type": "markdown",
   "id": "457396ea",
   "metadata": {},
   "source": [
    "## 이미지를 깎아서 노이즈 제거\n",
    "흰색 영역의 외곽 픽셀을 검은색으로 변경"
   ]
  },
  {
   "cell_type": "code",
   "execution_count": 1,
   "id": "b5c8a5c1",
   "metadata": {},
   "outputs": [],
   "source": [
    "import cv2\n",
    "import numpy as np\n",
    "\n",
    "kernel = np.ones((3, 3), dtype=np.uint8)\n",
    "\n",
    "img = cv2.imread('erode.png', cv2.IMREAD_GRAYSCALE)\n",
    "erode1 = cv2.erode(img, kernel, iterations=1) # 1회 반복\n",
    "erode2 = cv2.erode(img, kernel, iterations=2) # 2회 반복\n",
    "erode3 = cv2.erode(img, kernel, iterations=3) # 3회 반복\n",
    "\n",
    "cv2.imshow('gray', img)\n",
    "cv2.imshow('erode1', erode1)\n",
    "cv2.imshow('erode2', erode2)\n",
    "cv2.imshow('erode3', erode3)\n",
    "cv2.waitKey(0)\n",
    "cv2.destroyAllWindows()\n",
    "cv2.waitKey(1)"
   ]
  }
 ],
 "metadata": {
  "kernelspec": {
   "display_name": "Python 3 (ipykernel)",
   "language": "python",
   "name": "python3"
  },
  "language_info": {
   "codemirror_mode": {
    "name": "ipython",
    "version": 3
   },
   "file_extension": ".py",
   "mimetype": "text/x-python",
   "name": "python",
   "nbconvert_exporter": "python",
   "pygments_lexer": "ipython3",
   "version": "3.9.12"
  }
 },
 "nbformat": 4,
 "nbformat_minor": 5
}
