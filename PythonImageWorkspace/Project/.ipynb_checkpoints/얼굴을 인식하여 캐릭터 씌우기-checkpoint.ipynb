{
 "cells": [
  {
   "cell_type": "markdown",
   "id": "f5fdb19c",
   "metadata": {},
   "source": [
    "# 프로젝트 : 얼굴을 인식하여 캐릭터 씌우기"
   ]
  },
  {
   "cell_type": "markdown",
   "id": "2a0f0d2b",
   "metadata": {},
   "source": [
    "## Face Detection vs Face Recognition"
   ]
  },
  {
   "cell_type": "markdown",
   "id": "673dde70",
   "metadata": {},
   "source": [
    "패키지 설치\n",
    "> pip install mediapipe"
   ]
  },
  {
   "cell_type": "code",
   "execution_count": 8,
   "id": "c38564f7",
   "metadata": {
    "scrolled": false
   },
   "outputs": [
    {
     "ename": "IndexError",
     "evalue": "index 3 is out of bounds for axis 2 with size 3",
     "output_type": "error",
     "traceback": [
      "\u001b[0;31m---------------------------------------------------------------------------\u001b[0m",
      "\u001b[0;31mIndexError\u001b[0m                                Traceback (most recent call last)",
      "Input \u001b[0;32mIn [8]\u001b[0m, in \u001b[0;36m<cell line: 32>\u001b[0;34m()\u001b[0m\n\u001b[1;32m     63\u001b[0m nose_tip \u001b[38;5;241m=\u001b[39m (\u001b[38;5;28mint\u001b[39m(nose_tip\u001b[38;5;241m.\u001b[39mx \u001b[38;5;241m*\u001b[39m w), \u001b[38;5;28mint\u001b[39m(nose_tip\u001b[38;5;241m.\u001b[39my \u001b[38;5;241m*\u001b[39m h))\n\u001b[1;32m     65\u001b[0m \u001b[38;5;66;03m# 양 눈에 동그라미 그리기\u001b[39;00m\n\u001b[1;32m     66\u001b[0m \u001b[38;5;66;03m# cv2.circle(image, right_eye, 50, (255, 0, 0), 10, cv2.LINE_AA) # 파란색\u001b[39;00m\n\u001b[1;32m     67\u001b[0m \u001b[38;5;66;03m# cv2.circle(image, left_eye, 50, (0, 255, 0), 10, cv2.LINE_AA) # 초록색\u001b[39;00m\n\u001b[0;32m   (...)\u001b[0m\n\u001b[1;32m     75\u001b[0m \n\u001b[1;32m     76\u001b[0m \u001b[38;5;66;03m# image, x, y, w, h, overlay_image\u001b[39;00m\n\u001b[0;32m---> 77\u001b[0m \u001b[43moverlay\u001b[49m\u001b[43m(\u001b[49m\u001b[43mimage\u001b[49m\u001b[43m,\u001b[49m\u001b[43m \u001b[49m\u001b[38;5;241;43m*\u001b[39;49m\u001b[43mright_eye\u001b[49m\u001b[43m,\u001b[49m\u001b[43m \u001b[49m\u001b[38;5;241;43m50\u001b[39;49m\u001b[43m,\u001b[49m\u001b[43m \u001b[49m\u001b[38;5;241;43m50\u001b[39;49m\u001b[43m,\u001b[49m\u001b[43m \u001b[49m\u001b[43mimage_right_eye\u001b[49m\u001b[43m)\u001b[49m\n\u001b[1;32m     78\u001b[0m overlay(image, \u001b[38;5;241m*\u001b[39mleft_eye, \u001b[38;5;241m50\u001b[39m, \u001b[38;5;241m50\u001b[39m, image_left_eye)\n\u001b[1;32m     79\u001b[0m overlay(image, \u001b[38;5;241m*\u001b[39mnose_tip, \u001b[38;5;241m150\u001b[39m, \u001b[38;5;241m50\u001b[39m, image_nose)\n",
      "Input \u001b[0;32mIn [8]\u001b[0m, in \u001b[0;36moverlay\u001b[0;34m(image, x, y, w, h, overlay_image)\u001b[0m\n\u001b[1;32m      4\u001b[0m \u001b[38;5;28;01mdef\u001b[39;00m \u001b[38;5;21moverlay\u001b[39m(image, x, y, w, h, overlay_image): \u001b[38;5;66;03m# 대상 이미지, x, y 좌표, width, height, 덮어 씌울 이미지 (4 채널)\u001b[39;00m\n\u001b[0;32m----> 5\u001b[0m     alpha \u001b[38;5;241m=\u001b[39m \u001b[43moverlay_image\u001b[49m\u001b[43m[\u001b[49m\u001b[43m:\u001b[49m\u001b[43m,\u001b[49m\u001b[43m \u001b[49m\u001b[43m:\u001b[49m\u001b[43m,\u001b[49m\u001b[43m \u001b[49m\u001b[38;5;241;43m3\u001b[39;49m\u001b[43m]\u001b[49m \u001b[38;5;66;03m# BGRA -> 투명 영역만 가져오기\u001b[39;00m\n\u001b[1;32m      6\u001b[0m     mask_image \u001b[38;5;241m=\u001b[39m alpha \u001b[38;5;241m/\u001b[39m \u001b[38;5;241m255\u001b[39m \u001b[38;5;66;03m# 0 ~ 255 -> 255로 나누면 0 ~ 1 사이의 값 (1 : 불투명, 0 : 완전 투명)\u001b[39;00m\n\u001b[1;32m      7\u001b[0m     \u001b[38;5;66;03m# (255, 255) -> (1, 1)\u001b[39;00m\n\u001b[1;32m      8\u001b[0m     \u001b[38;5;66;03m# (255, 0)      (1, 0)\u001b[39;00m\n\u001b[1;32m      9\u001b[0m     \n\u001b[0;32m   (...)\u001b[0m\n\u001b[1;32m     13\u001b[0m     \n\u001b[1;32m     14\u001b[0m     \u001b[38;5;66;03m# 불투명한 부분은 덮어 씌우는 이미지 사용, 투명한 이미지는 덮어 씌워지는(원본) 이미지 사용\u001b[39;00m\n",
      "\u001b[0;31mIndexError\u001b[0m: index 3 is out of bounds for axis 2 with size 3"
     ]
    }
   ],
   "source": [
    "import cv2\n",
    "import mediapipe as mp\n",
    "\n",
    "def overlay(image, x, y, w, h, overlay_image): # 대상 이미지, x, y 좌표, width, height, 덮어 씌울 이미지 (4 채널)\n",
    "    alpha = overlay_image[:, :, 3] # BGRA -> 투명 영역만 가져오기\n",
    "    mask_image = alpha / 255 # 0 ~ 255 -> 255로 나누면 0 ~ 1 사이의 값 (1 : 불투명, 0 : 완전 투명)\n",
    "    # (255, 255) -> (1, 1)\n",
    "    # (255, 0)      (1, 0)\n",
    "    \n",
    "    # 1 - mask_image?\n",
    "    # (0, 0)\n",
    "    # (0, 1)\n",
    "    \n",
    "    # 불투명한 부분은 덮어 씌우는 이미지 사용, 투명한 이미지는 덮어 씌워지는(원본) 이미지 사용\n",
    "    \n",
    "    for c in range(0, 3): # channel BGR\n",
    "        image[y-h:y+h, x-w:x+w, c] = (overlay_image[:, :, c] * mask_image) + (image[y-h:y+h, x-w:x+w, c] * (1 - mask_image))\n",
    "        \n",
    "\n",
    "# 얼굴을 찾고, 찾은 얼굴에 표시 해주기 위한 변수 정의\n",
    "mp_face_detection = mp.solutions.face_detection # 얼굴 검출을 위한 face_detection 모듈을 사용\n",
    "mp_drawing = mp.solutions.drawing_utils # 얼굴의 특징을 그리기 위한 drawing_utils 모듈을 사용\n",
    "\n",
    "# 동영상 파일 열기\n",
    "cap = cv2.VideoCapture('face_video.mp4')\n",
    "\n",
    "# 이미지 불러오기\n",
    "image_right_eye = cv2.imread('right_eye.png')\n",
    "image_left_eye = cv2.imread('left_eye.png')\n",
    "image_nose = cv2.imread('nose.png')\n",
    "\n",
    "with mp_face_detection.FaceDetection(model_selection=0, min_detection_confidence=0.7) as face_detection:\n",
    "    # model_selection : 모델 종류 (0 : 근거리 얼굴, 1 : 원거리 얼굴), min_detection_confidence : 확신 정도(threshold)\n",
    "    while cap.isOpened():\n",
    "        success, image = cap.read()\n",
    "        if not success:\n",
    "            break\n",
    "\n",
    "        # To improve performance, optionally mark the image as not writeable to\n",
    "        # pass by reference.\n",
    "        image.flags.writeable = False\n",
    "        image = cv2.cvtColor(image, cv2.COLOR_BGR2RGB)\n",
    "        results = face_detection.process(image)\n",
    "\n",
    "        # Draw the face detection annotations on the image.\n",
    "        image.flags.writeable = True\n",
    "        image = cv2.cvtColor(image, cv2.COLOR_RGB2BGR)\n",
    "        if results.detections:\n",
    "            # 6개 특징 : 오른쪽 눈, 왼쪽 눈, 코 끝부분, 입 중심, 오른쪽 귀, 왼쪽 귀 (귀 구슬점, 이주)\n",
    "            for detection in results.detections:\n",
    "                # mp_drawing.draw_detection(image, detection)\n",
    "                # print(detection)\n",
    "                \n",
    "                # 특정 위치 가져오기\n",
    "                keypoints = detection.location_data.relative_keypoints\n",
    "                right_eye = keypoints[0] # 오른쪽 눈\n",
    "                left_eye = keypoints[1] # 왼쪽 눈\n",
    "                nose_tip = keypoints[2] # 코 끝부분\n",
    "                \n",
    "                h, w, _ = image.shape # height, width, channel - 이미지로부터 세로, 가로, 채널 가져옴\n",
    "                right_eye = (int(right_eye.x * w) - 20, int(right_eye.y * h) - 100) # 이미지 내에서 실제 좌표 (x, y)\n",
    "                left_eye = (int(left_eye.x * w) + 20, int(left_eye.y * h) - 100)\n",
    "                nose_tip = (int(nose_tip.x * w), int(nose_tip.y * h))\n",
    "                \n",
    "                # 양 눈에 동그라미 그리기\n",
    "                # cv2.circle(image, right_eye, 50, (255, 0, 0), 10, cv2.LINE_AA) # 파란색\n",
    "                # cv2.circle(image, left_eye, 50, (0, 255, 0), 10, cv2.LINE_AA) # 초록색\n",
    "                # 코에 동그라미 그리기\n",
    "                # cv2.circle(image, nose_tip, 70, (0, 255, 255), 10, cv2.LINE_AA) # 노란색\n",
    "                \n",
    "                # 각 특징에다가 이미지 그리기\n",
    "                # image[right_eye[1]-50:right_eye[1]+50, right_eye[0]-50:right_eye[0]+50] = image_right_eye\n",
    "                # image[left_eye[1]-50:left_eye[1]+50, left_eye[0]-50:left_eye[0]+50] = image_left_eye\n",
    "                # image[nose_tip[1]-50:nose_tip[1]+50, nose_tip[0]-150:nose_tip[0]+150] = image_nose\n",
    "                \n",
    "                # image, x, y, w, h, overlay_image\n",
    "                overlay(image, *right_eye, 50, 50, image_right_eye)\n",
    "                overlay(image, *left_eye, 50, 50, image_left_eye)\n",
    "                overlay(image, *nose_tip, 150, 50, image_nose)\n",
    "                \n",
    "        # Flip the image horizontally for a selfie-view display.\n",
    "        cv2.imshow('MediaPipe Face Detection', cv2.resize(image, None, fx=0.5, fy=0.5))\n",
    "        \n",
    "        if cv2.waitKey(1) == ord('q'):\n",
    "            break\n",
    "            \n",
    "cap.release()\n",
    "cv2.destroyAllWindows()\n",
    "cv2.waitKey(1)"
   ]
  },
  {
   "cell_type": "code",
   "execution_count": null,
   "id": "ef0745a9",
   "metadata": {},
   "outputs": [],
   "source": []
  }
 ],
 "metadata": {
  "kernelspec": {
   "display_name": "Python 3 (ipykernel)",
   "language": "python",
   "name": "python3"
  },
  "language_info": {
   "codemirror_mode": {
    "name": "ipython",
    "version": 3
   },
   "file_extension": ".py",
   "mimetype": "text/x-python",
   "name": "python",
   "nbconvert_exporter": "python",
   "pygments_lexer": "ipython3",
   "version": "3.9.12"
  }
 },
 "nbformat": 4,
 "nbformat_minor": 5
}
